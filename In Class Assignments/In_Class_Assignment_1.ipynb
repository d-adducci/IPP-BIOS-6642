{
 "cells": [
  {
   "cell_type": "code",
   "execution_count": 184,
   "id": "85b9b6c2-e4f8-41e8-9299-023a3b02e034",
   "metadata": {
    "tags": []
   },
   "outputs": [],
   "source": [
    "def movie_time():\n",
    "    ''' Function that asks user the number of hours, minutes, and seconds in the movie.'''\n",
    "    hours = int(input(\"How many hours is the movie: \"))\n",
    "    minutes = int(input(\"How many minutes is the movie: \"))\n",
    "    seconds = int(input(\"How many seconds is the movie: \"))\n",
    "    time_seconds = 58 + seconds # Adding seconds together\n",
    "    if time_seconds >= 60:\n",
    "        minutes_added = int(time_seconds / 60) # Determines the number of minutes from seconds\n",
    "        time_seconds = time_seconds % 60 # Determines remainder of seconds\n",
    "        minutes = minutes_added + minutes # Adds additional minutes from the seconds entry to the minute inpute.\n",
    "    time_minutes = 35 + minutes\n",
    "    if time_minutes >= 60:\n",
    "        hours_added = int(time_minutes / 60) # Determines number of hours from minutes\n",
    "        time_minutes = time_minutes % 60 # Determines remainder of minutes.\n",
    "        hours = hours_added + hours # Adds additional hours from the minutes entry to the hours inpute. \n",
    "    time_hours = 13 + hours\n",
    "    if time_hours >= 24:\n",
    "        time_hours = time_hours % 24 # Accounts for the movie running into the next day.\n",
    "    end_time = str(time_hours) + \":\" + str(time_minutes) + \":\" + str(time_seconds)\n",
    "    return(end_time)"
   ]
  },
  {
   "cell_type": "code",
   "execution_count": 185,
   "id": "821ddd0a-c4b3-42a1-bdf7-09b478a7b747",
   "metadata": {
    "tags": []
   },
   "outputs": [
    {
     "name": "stdin",
     "output_type": "stream",
     "text": [
      "How many hours is the movie:  1\n",
      "How many minutes is the movie:  21\n",
      "How many seconds is the movie:  35\n"
     ]
    },
    {
     "data": {
      "text/plain": [
       "'14:57:33'"
      ]
     },
     "execution_count": 185,
     "metadata": {},
     "output_type": "execute_result"
    }
   ],
   "source": [
    "movie_time()"
   ]
  },
  {
   "cell_type": "code",
   "execution_count": 186,
   "id": "6daec91b-dda6-4c4a-b8e5-11453f7c27c8",
   "metadata": {
    "tags": []
   },
   "outputs": [
    {
     "name": "stdin",
     "output_type": "stream",
     "text": [
      "How many hours is the movie:  0\n",
      "How many minutes is the movie:  122\n",
      "How many seconds is the movie:  8\n"
     ]
    },
    {
     "data": {
      "text/plain": [
       "'15:38:6'"
      ]
     },
     "execution_count": 186,
     "metadata": {},
     "output_type": "execute_result"
    }
   ],
   "source": [
    "movie_time()"
   ]
  },
  {
   "cell_type": "code",
   "execution_count": 187,
   "id": "2702e074-6186-442c-b431-519dc08f0441",
   "metadata": {
    "tags": []
   },
   "outputs": [
    {
     "name": "stdin",
     "output_type": "stream",
     "text": [
      "How many hours is the movie:  2\n",
      "How many minutes is the movie:  0\n",
      "How many seconds is the movie:  200\n"
     ]
    },
    {
     "data": {
      "text/plain": [
       "'15:39:18'"
      ]
     },
     "execution_count": 187,
     "metadata": {},
     "output_type": "execute_result"
    }
   ],
   "source": [
    "movie_time()"
   ]
  },
  {
   "cell_type": "code",
   "execution_count": 188,
   "id": "d34c5884-16d7-4b47-96b8-f348a8fa0d23",
   "metadata": {
    "tags": []
   },
   "outputs": [],
   "source": [
    "def draw_pattern():\n",
    "    ''' Function that draws a shape based on number of rows and columns'''\n",
    "    rows = int(input(\"Number of rows: \"))\n",
    "    columns = int(input(\"Number of columns: \"))\n",
    "    if columns == 1 and rows == 1: # Special case of 1x1.\n",
    "        shape = \"+\"\n",
    "    if columns == 1 and rows >= 2: # Special case of nx1\n",
    "        top_row = \"+\"\n",
    "        middle_row = \"\\n|\" * (rows - 2)\n",
    "        bottom_row = \"\\n+\"\n",
    "        shape = top_row + middle_row + bottom_row\n",
    "    if rows == 1 and columns >= 2: # Special case of 1xn\n",
    "        col_dashes = \"+\" + \" -\" * (columns - 2) + \" +\"\n",
    "        shape = col_dashes\n",
    "    if rows >= 2 and columns >= 2: # General case of mxn\n",
    "        top_col_dashes = \"+\" + \" -\" * (columns - 2) + \" +\"\n",
    "        bottom_col_dashes = \"\\n+\" + \" -\" * (columns - 2) + \" +\"\n",
    "        empty_spaces = \"  \" * (columns - 2) # Adds empty spaces between right and left side\n",
    "        row_dashes = \"\\n| \" + empty_spaces + \"|\" # Adds rows to middle of shape\n",
    "        row_str = row_dashes * (rows - 2)\n",
    "        shape = top_col_dashes + row_str + bottom_col_dashes\n",
    "    print(shape)\n",
    "    "
   ]
  },
  {
   "cell_type": "code",
   "execution_count": 191,
   "id": "c3242461-e511-4018-af8d-a62246d5a6b4",
   "metadata": {
    "tags": []
   },
   "outputs": [
    {
     "name": "stdin",
     "output_type": "stream",
     "text": [
      "Number of rows:  1\n",
      "Number of columns:  1\n"
     ]
    },
    {
     "name": "stdout",
     "output_type": "stream",
     "text": [
      "+\n"
     ]
    }
   ],
   "source": [
    "draw_pattern()"
   ]
  },
  {
   "cell_type": "code",
   "execution_count": 192,
   "id": "b6894292-9f49-406e-a9af-671449fbba98",
   "metadata": {
    "tags": []
   },
   "outputs": [
    {
     "name": "stdin",
     "output_type": "stream",
     "text": [
      "Number of rows:  1\n",
      "Number of columns:  2\n"
     ]
    },
    {
     "name": "stdout",
     "output_type": "stream",
     "text": [
      "+ +\n"
     ]
    }
   ],
   "source": [
    "draw_pattern()"
   ]
  },
  {
   "cell_type": "code",
   "execution_count": 194,
   "id": "c43d311a-c2a0-48ea-99ea-dc0e44004c6d",
   "metadata": {
    "tags": []
   },
   "outputs": [
    {
     "name": "stdin",
     "output_type": "stream",
     "text": [
      "Number of rows:  1\n",
      "Number of columns:  3\n"
     ]
    },
    {
     "name": "stdout",
     "output_type": "stream",
     "text": [
      "+ - +\n"
     ]
    }
   ],
   "source": [
    "draw_pattern()"
   ]
  },
  {
   "cell_type": "code",
   "execution_count": 195,
   "id": "b0145f38-a909-47ae-92a7-9750b7cfbc1d",
   "metadata": {
    "tags": []
   },
   "outputs": [
    {
     "name": "stdin",
     "output_type": "stream",
     "text": [
      "Number of rows:  2\n",
      "Number of columns:  1\n"
     ]
    },
    {
     "name": "stdout",
     "output_type": "stream",
     "text": [
      "+\n",
      "+\n"
     ]
    }
   ],
   "source": [
    "draw_pattern()"
   ]
  },
  {
   "cell_type": "code",
   "execution_count": 196,
   "id": "6947a9c9-688f-4483-b93a-626457db4b55",
   "metadata": {
    "tags": []
   },
   "outputs": [
    {
     "name": "stdin",
     "output_type": "stream",
     "text": [
      "Number of rows:  3\n",
      "Number of columns:  1\n"
     ]
    },
    {
     "name": "stdout",
     "output_type": "stream",
     "text": [
      "+\n",
      "|\n",
      "+\n"
     ]
    }
   ],
   "source": [
    "draw_pattern()"
   ]
  },
  {
   "cell_type": "code",
   "execution_count": 197,
   "id": "5d69e28f-3321-4550-ba96-eba07ba2e0d1",
   "metadata": {
    "tags": []
   },
   "outputs": [
    {
     "name": "stdin",
     "output_type": "stream",
     "text": [
      "Number of rows:  2\n",
      "Number of columns:  2\n"
     ]
    },
    {
     "name": "stdout",
     "output_type": "stream",
     "text": [
      "+ +\n",
      "+ +\n"
     ]
    }
   ],
   "source": [
    "draw_pattern()"
   ]
  },
  {
   "cell_type": "code",
   "execution_count": 198,
   "id": "51b7476b-8e58-4f8d-8694-539286353455",
   "metadata": {
    "tags": []
   },
   "outputs": [
    {
     "name": "stdin",
     "output_type": "stream",
     "text": [
      "Number of rows:  3\n",
      "Number of columns:  4\n"
     ]
    },
    {
     "name": "stdout",
     "output_type": "stream",
     "text": [
      "+ - - +\n",
      "|     |\n",
      "+ - - +\n"
     ]
    }
   ],
   "source": [
    "draw_pattern()"
   ]
  },
  {
   "cell_type": "code",
   "execution_count": 199,
   "id": "38910b88-3382-4857-81ad-b177a7232de9",
   "metadata": {
    "tags": []
   },
   "outputs": [
    {
     "name": "stdin",
     "output_type": "stream",
     "text": [
      "Number of rows:  3\n",
      "Number of columns:  6\n"
     ]
    },
    {
     "name": "stdout",
     "output_type": "stream",
     "text": [
      "+ - - - - +\n",
      "|         |\n",
      "+ - - - - +\n"
     ]
    }
   ],
   "source": [
    "draw_pattern()"
   ]
  },
  {
   "cell_type": "code",
   "execution_count": 200,
   "id": "744941e1-9339-4576-b66f-82608e7efe2d",
   "metadata": {
    "tags": []
   },
   "outputs": [
    {
     "name": "stdin",
     "output_type": "stream",
     "text": [
      "Number of rows:  6\n",
      "Number of columns:  6\n"
     ]
    },
    {
     "name": "stdout",
     "output_type": "stream",
     "text": [
      "+ - - - - +\n",
      "|         |\n",
      "|         |\n",
      "|         |\n",
      "|         |\n",
      "+ - - - - +\n"
     ]
    }
   ],
   "source": [
    "draw_pattern()"
   ]
  },
  {
   "cell_type": "code",
   "execution_count": 201,
   "id": "aaf0cd47-0917-4399-a0ad-10550b0ece2d",
   "metadata": {
    "tags": []
   },
   "outputs": [
    {
     "name": "stdin",
     "output_type": "stream",
     "text": [
      "Number of rows:  8\n",
      "Number of columns:  9\n"
     ]
    },
    {
     "name": "stdout",
     "output_type": "stream",
     "text": [
      "+ - - - - - - - +\n",
      "|               |\n",
      "|               |\n",
      "|               |\n",
      "|               |\n",
      "|               |\n",
      "|               |\n",
      "+ - - - - - - - +\n"
     ]
    }
   ],
   "source": [
    "draw_pattern()"
   ]
  }
 ],
 "metadata": {
  "kernelspec": {
   "display_name": "Python 3 (ipykernel)",
   "language": "python",
   "name": "python3"
  },
  "language_info": {
   "codemirror_mode": {
    "name": "ipython",
    "version": 3
   },
   "file_extension": ".py",
   "mimetype": "text/x-python",
   "name": "python",
   "nbconvert_exporter": "python",
   "pygments_lexer": "ipython3",
   "version": "3.11.5"
  }
 },
 "nbformat": 4,
 "nbformat_minor": 5
}

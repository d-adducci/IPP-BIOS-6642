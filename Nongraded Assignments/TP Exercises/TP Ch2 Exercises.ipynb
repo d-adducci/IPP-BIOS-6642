{
 "cells": [
  {
   "cell_type": "code",
   "execution_count": 55,
   "id": "c07e0595",
   "metadata": {},
   "outputs": [
    {
     "ename": "SyntaxError",
     "evalue": "cannot assign to literal here. Maybe you meant '==' instead of '='? (857978465.py, line 8)",
     "output_type": "error",
     "traceback": [
      "\u001b[1;36m  Cell \u001b[1;32mIn[55], line 8\u001b[1;36m\u001b[0m\n\u001b[1;33m    42 = n\u001b[0m\n\u001b[1;37m    ^\u001b[0m\n\u001b[1;31mSyntaxError\u001b[0m\u001b[1;31m:\u001b[0m cannot assign to literal here. Maybe you meant '==' instead of '='?\n"
     ]
    }
   ],
   "source": [
    "# 2.10 Exercises\n",
    "\n",
    "# Exercise 1\n",
    "# Repeating my advice from the previous chapter, whenver you learn a new feature, you\n",
    "# should try it out in interactive mode and make errors on purpose to see what goes wrong.\n",
    "\n",
    "# 1.) We've seen that n = 42 is legal. What about 42 = n?\n",
    "42 = n\n",
    "\n",
    "# Returns a syntax error."
   ]
  },
  {
   "cell_type": "code",
   "execution_count": 63,
   "id": "2412678f",
   "metadata": {},
   "outputs": [
    {
     "data": {
      "text/plain": [
       "1"
      ]
     },
     "execution_count": 63,
     "metadata": {},
     "output_type": "execute_result"
    }
   ],
   "source": [
    "# 2.) How about x = y = 1?\n",
    "x = y = 1\n",
    "\n",
    "# Both x and y are equal to 1. "
   ]
  },
  {
   "cell_type": "code",
   "execution_count": 68,
   "id": "e12fc27e",
   "metadata": {},
   "outputs": [
    {
     "data": {
      "text/plain": [
       "5"
      ]
     },
     "execution_count": 68,
     "metadata": {},
     "output_type": "execute_result"
    }
   ],
   "source": [
    "# 3.) In some languages every statement ends with a semi-colon,;. What happens if you\n",
    "# put a semi-colon at the end of a Python statement?\n",
    "x = 5;\n",
    "x\n",
    "\n",
    "# It runs with a semi-colon."
   ]
  },
  {
   "cell_type": "code",
   "execution_count": 70,
   "id": "05a73712",
   "metadata": {},
   "outputs": [
    {
     "data": {
      "text/plain": [
       "5.0"
      ]
     },
     "execution_count": 70,
     "metadata": {},
     "output_type": "execute_result"
    }
   ],
   "source": [
    "# 4.) What if you put a period at the end of a statement?\n",
    "x = 5.\n",
    "x\n",
    "\n",
    "# It turns x into a floating point number."
   ]
  },
  {
   "cell_type": "code",
   "execution_count": 72,
   "id": "705396a6",
   "metadata": {},
   "outputs": [
    {
     "ename": "NameError",
     "evalue": "name 'xy' is not defined",
     "output_type": "error",
     "traceback": [
      "\u001b[1;31m---------------------------------------------------------------------------\u001b[0m",
      "\u001b[1;31mNameError\u001b[0m                                 Traceback (most recent call last)",
      "Cell \u001b[1;32mIn[72], line 4\u001b[0m\n\u001b[0;32m      2\u001b[0m x \u001b[38;5;241m=\u001b[39m \u001b[38;5;241m2\u001b[39m\n\u001b[0;32m      3\u001b[0m y \u001b[38;5;241m=\u001b[39m \u001b[38;5;241m3\u001b[39m\n\u001b[1;32m----> 4\u001b[0m xy\n",
      "\u001b[1;31mNameError\u001b[0m: name 'xy' is not defined"
     ]
    }
   ],
   "source": [
    "# 5.) In math notation you can multiply x and y like this: xy. What happens if you try that in Python?\n",
    "x = 2\n",
    "y = 3\n",
    "xy\n",
    "\n",
    "# Returns a name error (xy is not defined). "
   ]
  },
  {
   "cell_type": "code",
   "execution_count": 76,
   "id": "cfaaa446",
   "metadata": {},
   "outputs": [
    {
     "data": {
      "text/plain": [
       "62.83179999999999"
      ]
     },
     "execution_count": 76,
     "metadata": {},
     "output_type": "execute_result"
    }
   ],
   "source": [
    "# Exercise 2\n",
    "# Practice using the Python interpreter as a calculator\n",
    "\n",
    "# 1.) The volume of a sphere with radius r is 4/3 * pi * r^3. What is the volume of a sphere\n",
    "# with radius 5?\n",
    "(4/3) * 3.14159 * 5*3"
   ]
  },
  {
   "cell_type": "code",
   "execution_count": 77,
   "id": "92f68a4d",
   "metadata": {},
   "outputs": [
    {
     "data": {
      "text/plain": [
       "945.4499999999999"
      ]
     },
     "execution_count": 77,
     "metadata": {},
     "output_type": "execute_result"
    }
   ],
   "source": [
    "# 2.) Suppose the cover price of a book is $24.95, but bookstores get a 40% discount.\n",
    "# Shipping costs $3 for the first copy and 75 cents for each additional copy. \n",
    "# What is the total wholesale cost for 60 copies?\n",
    "(24.95 * 0.60)*60 + 3 + 0.75*59"
   ]
  },
  {
   "cell_type": "code",
   "execution_count": 78,
   "id": "ab385094",
   "metadata": {},
   "outputs": [
    {
     "data": {
      "text/plain": [
       "38.1"
      ]
     },
     "execution_count": 78,
     "metadata": {},
     "output_type": "execute_result"
    }
   ],
   "source": [
    "# 3.) If I leave my house at 6:52 am and run 1 mile at an easy pace (8:15 per mile), \n",
    "# then 3 miles at tempo (7:12 per mile) and 1 mile at easy pace again, \n",
    "# what time do I get home for breakfast?\n",
    "\n",
    "2*8.25 + 3*7.2\n",
    "\n",
    "# You would get home at 7:30. "
   ]
  }
 ],
 "metadata": {
  "kernelspec": {
   "display_name": "Python 3 (ipykernel)",
   "language": "python",
   "name": "python3"
  },
  "language_info": {
   "codemirror_mode": {
    "name": "ipython",
    "version": 3
   },
   "file_extension": ".py",
   "mimetype": "text/x-python",
   "name": "python",
   "nbconvert_exporter": "python",
   "pygments_lexer": "ipython3",
   "version": "3.11.5"
  }
 },
 "nbformat": 4,
 "nbformat_minor": 5
}

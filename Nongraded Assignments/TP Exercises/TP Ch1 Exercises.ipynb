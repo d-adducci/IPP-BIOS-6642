{
 "cells": [
  {
   "cell_type": "code",
   "execution_count": 16,
   "id": "9fccb48f",
   "metadata": {},
   "outputs": [
    {
     "ename": "SyntaxError",
     "evalue": "'(' was never closed (3975342754.py, line 5)",
     "output_type": "error",
     "traceback": [
      "\u001b[1;36m  Cell \u001b[1;32mIn[16], line 5\u001b[1;36m\u001b[0m\n\u001b[1;33m    print('Hello, World!'\u001b[0m\n\u001b[1;37m         ^\u001b[0m\n\u001b[1;31mSyntaxError\u001b[0m\u001b[1;31m:\u001b[0m '(' was never closed\n"
     ]
    }
   ],
   "source": [
    "# 1.9 Exercises\n",
    "\n",
    "# Exercise 1\n",
    "# 1.) leave out one parenthesis and both from print statement.\n",
    "print('Hello, World!'\n",
    "print'Hello, World!'\n",
    "\n",
    "# Results in syntax errors. "
   ]
  },
  {
   "cell_type": "code",
   "execution_count": 31,
   "id": "eda77c51",
   "metadata": {},
   "outputs": [
    {
     "ename": "SyntaxError",
     "evalue": "unterminated string literal (detected at line 4) (2995168815.py, line 4)",
     "output_type": "error",
     "traceback": [
      "\u001b[1;36m  Cell \u001b[1;32mIn[31], line 4\u001b[1;36m\u001b[0m\n\u001b[1;33m    print('Hello, World!)\u001b[0m\n\u001b[1;37m          ^\u001b[0m\n\u001b[1;31mSyntaxError\u001b[0m\u001b[1;31m:\u001b[0m unterminated string literal (detected at line 4)\n"
     ]
    }
   ],
   "source": [
    "# 2.) If you are tryint to pint a string, what happens if you \n",
    "# leave out one of the quotation marks or both.\n",
    "print(Hello, World!)\n",
    "print('Hello, World!)\n",
    "      \n",
    "# Results in syntax errors."
   ]
  },
  {
   "cell_type": "code",
   "execution_count": 44,
   "id": "1ef4662f",
   "metadata": {},
   "outputs": [
    {
     "data": {
      "text/plain": [
       "4"
      ]
     },
     "execution_count": 44,
     "metadata": {},
     "output_type": "execute_result"
    }
   ],
   "source": [
    "# 3.) You can use a minus sign to make a negative number like -2. What happens if you put a \n",
    "# plus sign before a number? What about 2++2?\n",
    "-2\n",
    "+2\n",
    "2++2\n",
    "\n",
    "# Python ignores the + before the 2 and considers 2 a positive number."
   ]
  },
  {
   "cell_type": "code",
   "execution_count": 47,
   "id": "6c89ca61",
   "metadata": {},
   "outputs": [
    {
     "ename": "SyntaxError",
     "evalue": "leading zeros in decimal integer literals are not permitted; use an 0o prefix for octal integers (3918821988.py, line 4)",
     "output_type": "error",
     "traceback": [
      "\u001b[1;36m  Cell \u001b[1;32mIn[47], line 4\u001b[1;36m\u001b[0m\n\u001b[1;33m    09\u001b[0m\n\u001b[1;37m    ^\u001b[0m\n\u001b[1;31mSyntaxError\u001b[0m\u001b[1;31m:\u001b[0m leading zeros in decimal integer literals are not permitted; use an 0o prefix for octal integers\n"
     ]
    }
   ],
   "source": [
    "# 4.) In math notation, leading zeros are ok, as in 09. What happens if you try\n",
    "# this in Python? What about 011?\n",
    "09\n",
    "011\n",
    "\n",
    "# Syntax error, leading zeros in decimal interger literals are not permitted. \n"
   ]
  },
  {
   "cell_type": "code",
   "execution_count": 48,
   "id": "990d0fa1",
   "metadata": {},
   "outputs": [
    {
     "ename": "SyntaxError",
     "evalue": "invalid syntax (3542970855.py, line 3)",
     "output_type": "error",
     "traceback": [
      "\u001b[1;36m  Cell \u001b[1;32mIn[48], line 3\u001b[1;36m\u001b[0m\n\u001b[1;33m    2 2\u001b[0m\n\u001b[1;37m      ^\u001b[0m\n\u001b[1;31mSyntaxError\u001b[0m\u001b[1;31m:\u001b[0m invalid syntax\n"
     ]
    }
   ],
   "source": [
    "# 5.) What happens if you have two values with no operator between them?\n",
    "\n",
    "2 2\n",
    "\n",
    "# Syntax error."
   ]
  },
  {
   "cell_type": "code",
   "execution_count": 49,
   "id": "899ae5fd",
   "metadata": {},
   "outputs": [
    {
     "data": {
      "text/plain": [
       "2562"
      ]
     },
     "execution_count": 49,
     "metadata": {},
     "output_type": "execute_result"
    }
   ],
   "source": [
    "# Exercise 2\n",
    "# Start the Python interpreter and use it as a calculator. \n",
    "\n",
    "# 1.) How many seconds are there in 42 minutes 42 seconds?\n",
    "42 * 60 + 42"
   ]
  },
  {
   "cell_type": "code",
   "execution_count": 50,
   "id": "65604924",
   "metadata": {},
   "outputs": [
    {
     "data": {
      "text/plain": [
       "6.211180124223602"
      ]
     },
     "execution_count": 50,
     "metadata": {},
     "output_type": "execute_result"
    }
   ],
   "source": [
    "# 2.) How many miles are there in 10 kilometers? Hint: there are 1.61 kilometers in a mile.\n",
    "10/1.61"
   ]
  },
  {
   "cell_type": "code",
   "execution_count": 51,
   "id": "1d830a51",
   "metadata": {},
   "outputs": [
    {
     "data": {
      "text/plain": [
       "8.727653570337614"
      ]
     },
     "execution_count": 51,
     "metadata": {},
     "output_type": "execute_result"
    }
   ],
   "source": [
    "# 3.) If you run a 10 kilometer race in 42 minutes 42 seconds, what is you average pace \n",
    "# (time per mile in minutes and seconds)? What is your average speed in miles per hour?\n",
    "\n",
    "(10/1.61)/((42*60 + 42)/60/60)"
   ]
  }
 ],
 "metadata": {
  "kernelspec": {
   "display_name": "Python 3 (ipykernel)",
   "language": "python",
   "name": "python3"
  },
  "language_info": {
   "codemirror_mode": {
    "name": "ipython",
    "version": 3
   },
   "file_extension": ".py",
   "mimetype": "text/x-python",
   "name": "python",
   "nbconvert_exporter": "python",
   "pygments_lexer": "ipython3",
   "version": "3.11.5"
  }
 },
 "nbformat": 4,
 "nbformat_minor": 5
}

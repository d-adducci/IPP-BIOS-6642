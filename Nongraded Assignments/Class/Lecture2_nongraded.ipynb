{
 "cells": [
  {
   "cell_type": "code",
   "execution_count": 84,
   "id": "3c85f086",
   "metadata": {},
   "outputs": [
    {
     "name": "stdout",
     "output_type": "stream",
     "text": [
      "radius r: 5\n"
     ]
    },
    {
     "data": {
      "text/plain": [
       "523.5983333333332"
      ]
     },
     "execution_count": 84,
     "metadata": {},
     "output_type": "execute_result"
    }
   ],
   "source": [
    "# Lecture 2 Non-Graded Problems/Exercises\n",
    "\n",
    "# 1.) Please write a Python program to calculate the volume, V, of a \n",
    "# sphere with radius r, which is an integer given by the user during\n",
    "# runtimes. The volume V is given by the formula: V = (4/3)*pi*r**3.\n",
    "# You can define pi as a constant in your program, e.g., pi = 3.14159\n",
    "r = int(input('radius r: '))\n",
    "V = (4/3)*3.14159*r**3\n",
    "V"
   ]
  },
  {
   "cell_type": "code",
   "execution_count": 87,
   "id": "dd44987f",
   "metadata": {},
   "outputs": [
    {
     "name": "stdout",
     "output_type": "stream",
     "text": [
      "How many books (>= 1): 5\n"
     ]
    },
    {
     "data": {
      "text/plain": [
       "274.7"
      ]
     },
     "execution_count": 87,
     "metadata": {},
     "output_type": "execute_result"
    }
   ],
   "source": [
    "# 2.) The price of a book is $66.95, and educational institutions get a 20% discount.\n",
    "# The shipping cost is $3.50 for the first copy and 85 cents for each additional copy.\n",
    "# Suppose a university plans to by num copies of the book (num > 1, and it is given by\n",
    "# the user during runtime). Please write a Python program to calculate and print the \n",
    "# total cost for the university. \n",
    "num = int(input(\"How many books (>= 1): \"))\n",
    "(66.95 * 0.80) * num + 3.50 + 0.85*(num - 1)"
   ]
  }
 ],
 "metadata": {
  "kernelspec": {
   "display_name": "Python 3 (ipykernel)",
   "language": "python",
   "name": "python3"
  },
  "language_info": {
   "codemirror_mode": {
    "name": "ipython",
    "version": 3
   },
   "file_extension": ".py",
   "mimetype": "text/x-python",
   "name": "python",
   "nbconvert_exporter": "python",
   "pygments_lexer": "ipython3",
   "version": "3.11.5"
  }
 },
 "nbformat": 4,
 "nbformat_minor": 5
}

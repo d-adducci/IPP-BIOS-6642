{
 "cells": [
  {
   "cell_type": "code",
   "execution_count": 5,
   "id": "88cc0648-a06d-48bd-baf6-488ee303c8ef",
   "metadata": {
    "tags": []
   },
   "outputs": [
    {
     "name": "stdin",
     "output_type": "stream",
     "text": [
      "Please Enter Integer:  0\n"
     ]
    },
    {
     "name": "stdout",
     "output_type": "stream",
     "text": [
      "OK\n"
     ]
    }
   ],
   "source": [
    "# Lecture 3 Non-Graded Problems/Exercises\n",
    "\n",
    "# 1.) Please write a Python program that requests one integer value from\n",
    "# the user. If the value is less than 0, print \"Negative\"; if th value is \n",
    "# between 0 and 10, print \"OK\"; if the value is greater than 10, print\n",
    "# \"Out of range\". \n",
    "int_value = int(input(\"Please Enter Integer: \"))\n",
    "if int_value < 0:\n",
    "    print(\"Negative\")\n",
    "elif int_value > 10:\n",
    "    print(\"Out of range\")\n",
    "elif int_value <= 10 and int_value >= 0:\n",
    "    print(\"OK\")\n"
   ]
  },
  {
   "cell_type": "code",
   "execution_count": 17,
   "id": "61c16436-01b7-461a-a6ab-3249ec6a0554",
   "metadata": {
    "tags": []
   },
   "outputs": [
    {
     "name": "stdin",
     "output_type": "stream",
     "text": [
      "Integer 1:  10\n",
      "Integer 2:  2\n",
      "Integer 3:  5\n",
      "Integer 4:  10\n"
     ]
    },
    {
     "name": "stdout",
     "output_type": "stream",
     "text": [
      "No single maximum\n",
      "Minimum: 2\n"
     ]
    }
   ],
   "source": [
    "# 2.) Suppose there are 4 variables, num1, num2, num3, and num4, and\n",
    "# they refer to integer values that are provided by the user during \n",
    "# runtime. Please write a Python program to find and print the \n",
    "# maximum and minimum values. Please do not use the built-in functions,\n",
    "# max and min, in Python\n",
    "num1 = int(input(\"Integer 1: \"))\n",
    "num2 = int(input(\"Integer 2: \"))\n",
    "num3 = int(input(\"Integer 3: \"))\n",
    "num4 = int(input(\"Integer 4: \"))\n",
    "\n",
    "if(num2/num1 < 1 and num3/num1 < 1 and num4/num1 < 1):\n",
    "    print(\"Maximum:\",num1,sep = \" \")\n",
    "elif(num1/num2 < 1 and num3/num2 < 1 and num4/num2 < 1):\n",
    "    print(\"Maximum:\",num2,sep = \" \")\n",
    "elif(num1/num3 < 1 and num2/num3 < 1 and num4/num3 < 1):\n",
    "    print(\"Maximum:\",num3,sep = \" \")\n",
    "elif(num1/num4 < 1 and num2/num4 < 1 and num3/num4 < 1):\n",
    "    print(\"Maximum:\",num4,sep = \" \")\n",
    "else:\n",
    "    print(\"No single maximum\")\n",
    "    \n",
    "if(num1/num2 < 1 and num1/num3 < 1 and num1/num4 < 1):\n",
    "    print(\"Minimum:\",num1,sep= \" \")\n",
    "elif(num2/num1 < 1 and num2/num3 < 1 and num2/num4 < 1):\n",
    "    print(\"Minimum:\",num2,sep = \" \")\n",
    "elif(num3/num1 < 1 and num3/num2 < 1 and num3/num4 < 1):\n",
    "    print(\"Minimum:\",num3,sep = \" \")\n",
    "elif(num4/num1 < 1 and num4/num2 < 1 and num4/num3 < 1):\n",
    "    print(\"Minimum:\",num4,sep = \" \")\n",
    "else:\n",
    "    print(\"No single minimum\")\n",
    "\n"
   ]
  },
  {
   "cell_type": "code",
   "execution_count": null,
   "id": "47e2b9b8-1aaf-4690-aaef-990eff2c8c37",
   "metadata": {},
   "outputs": [],
   "source": []
  }
 ],
 "metadata": {
  "kernelspec": {
   "display_name": "Python 3 (ipykernel)",
   "language": "python",
   "name": "python3"
  },
  "language_info": {
   "codemirror_mode": {
    "name": "ipython",
    "version": 3
   },
   "file_extension": ".py",
   "mimetype": "text/x-python",
   "name": "python",
   "nbconvert_exporter": "python",
   "pygments_lexer": "ipython3",
   "version": "3.11.5"
  }
 },
 "nbformat": 4,
 "nbformat_minor": 5
}
